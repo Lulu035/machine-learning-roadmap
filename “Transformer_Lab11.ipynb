{
  "nbformat": 4,
  "nbformat_minor": 0,
  "metadata": {
    "kernelspec": {
      "display_name": "Python 3",
      "language": "python",
      "name": "python3"
    },
    "language_info": {
      "codemirror_mode": {
        "name": "ipython",
        "version": 3
      },
      "file_extension": ".py",
      "mimetype": "text/x-python",
      "name": "python",
      "nbconvert_exporter": "python",
      "pygments_lexer": "ipython3",
      "version": "3.6.8"
    },
    "colab": {
      "provenance": [],
      "toc_visible": true,
      "include_colab_link": true
    },
    "accelerator": "GPU"
  },
  "cells": [
    {
      "cell_type": "markdown",
      "metadata": {
        "id": "view-in-github",
        "colab_type": "text"
      },
      "source": [
        "<a href=\"https://colab.research.google.com/github/Lulu035/machine-learning-roadmap/blob/master/%E2%80%9CTransformer_Lab11.ipynb\" target=\"_parent\"><img src=\"https://colab.research.google.com/assets/colab-badge.svg\" alt=\"Open In Colab\"/></a>"
      ]
    },
    {
      "cell_type": "markdown",
      "metadata": {
        "id": "s55oVTgTXTDP"
      },
      "source": [
        "This code is from https://pytorch.org/tutorials/beginner/transformer_tutorial.html, pytorch official document about seq2seq modeling using Transformer."
      ]
    },
    {
      "cell_type": "code",
      "metadata": {
        "id": "Xtb2-yhjf9C9",
        "colab": {
          "base_uri": "https://localhost:8080/"
        },
        "outputId": "f9daf1ba-2ec3-4004-8cfa-cf0d550fdb80"
      },
      "source": [
        "!pip3 install torchtext==0.4.0"
      ],
      "execution_count": null,
      "outputs": [
        {
          "output_type": "stream",
          "name": "stdout",
          "text": [
            "Collecting torchtext==0.4.0\n",
            "  Downloading torchtext-0.4.0-py3-none-any.whl (53 kB)\n",
            "\u001b[?25l\r\u001b[K     |██████▏                         | 10 kB 34.7 MB/s eta 0:00:01\r\u001b[K     |████████████▍                   | 20 kB 16.7 MB/s eta 0:00:01\r\u001b[K     |██████████████████▌             | 30 kB 10.0 MB/s eta 0:00:01\r\u001b[K     |████████████████████████▊       | 40 kB 8.2 MB/s eta 0:00:01\r\u001b[K     |██████████████████████████████▉ | 51 kB 4.8 MB/s eta 0:00:01\r\u001b[K     |████████████████████████████████| 53 kB 1.7 MB/s \n",
            "\u001b[?25hRequirement already satisfied: six in /usr/local/lib/python3.7/dist-packages (from torchtext==0.4.0) (1.15.0)\n",
            "Requirement already satisfied: numpy in /usr/local/lib/python3.7/dist-packages (from torchtext==0.4.0) (1.21.6)\n",
            "Requirement already satisfied: tqdm in /usr/local/lib/python3.7/dist-packages (from torchtext==0.4.0) (4.64.0)\n",
            "Requirement already satisfied: requests in /usr/local/lib/python3.7/dist-packages (from torchtext==0.4.0) (2.23.0)\n",
            "Requirement already satisfied: torch in /usr/local/lib/python3.7/dist-packages (from torchtext==0.4.0) (1.11.0+cu113)\n",
            "Requirement already satisfied: idna<3,>=2.5 in /usr/local/lib/python3.7/dist-packages (from requests->torchtext==0.4.0) (2.10)\n",
            "Requirement already satisfied: certifi>=2017.4.17 in /usr/local/lib/python3.7/dist-packages (from requests->torchtext==0.4.0) (2021.10.8)\n",
            "Requirement already satisfied: chardet<4,>=3.0.2 in /usr/local/lib/python3.7/dist-packages (from requests->torchtext==0.4.0) (3.0.4)\n",
            "Requirement already satisfied: urllib3!=1.25.0,!=1.25.1,<1.26,>=1.21.1 in /usr/local/lib/python3.7/dist-packages (from requests->torchtext==0.4.0) (1.24.3)\n",
            "Requirement already satisfied: typing-extensions in /usr/local/lib/python3.7/dist-packages (from torch->torchtext==0.4.0) (4.2.0)\n",
            "Installing collected packages: torchtext\n",
            "  Attempting uninstall: torchtext\n",
            "    Found existing installation: torchtext 0.12.0\n",
            "    Uninstalling torchtext-0.12.0:\n",
            "      Successfully uninstalled torchtext-0.12.0\n",
            "Successfully installed torchtext-0.4.0\n"
          ]
        }
      ]
    },
    {
      "cell_type": "markdown",
      "metadata": {
        "id": "9XjsunFtWPQv"
      },
      "source": [
        "\n",
        "Sequence-to-Sequence Modeling with nn.Transformer and TorchText\n",
        "===============================================================\n",
        "\n",
        "This is a tutorial on how to train a sequence-to-sequence model\n",
        "that uses the\n",
        "[nn.Transformer](https://pytorch.org/docs/master/nn.html?highlight=nn%20transformer#torch.nn.Transformer) module.\n",
        "\n",
        "PyTorch 1.2 release includes a standard transformer module based on the\n",
        "paper [Attention is All You\n",
        "Need](https://arxiv.org/pdf/1706.03762.pdf) . The transformer model\n",
        "has been proved to be superior in quality for many sequence-to-sequence\n",
        "problems while being more parallelizable. The ``nn.Transformer`` module\n",
        "relies entirely on an attention mechanism (another module recently\n",
        "implemented as [nn.MultiheadAttention](https://pytorch.org/docs/master/nn.html?highlight=multiheadattention#torch.nn.MultiheadAttention) to draw global dependencies\n",
        "between input and output. The ``nn.Transformer`` module is now highly\n",
        "modularized such that a single component (like `nn.TransformerEncoder`\n",
        "in this tutorial) can be easily adapted/composed.\n",
        "\n",
        "![](https://github.com/pytorch/tutorials/blob/gh-pages/_static/img/transformer_architecture.jpg?raw=1)\n",
        "\n",
        "\n",
        "\n"
      ]
    },
    {
      "cell_type": "markdown",
      "metadata": {
        "id": "23r1Mv0wWPQw"
      },
      "source": [
        "Define the model\n",
        "----------------\n",
        "\n",
        "\n"
      ]
    },
    {
      "cell_type": "markdown",
      "metadata": {
        "id": "K102Br-MWPQx"
      },
      "source": [
        "In this tutorial, we train ``nn.TransformerEncoder`` model on a\n",
        "language modeling task. The language modeling task is to assign a\n",
        "probability for the likelihood of a given word (or a sequence of words)\n",
        "to follow a sequence of words.\n",
        "\n",
        "A sequence of tokens are passed to the embedding\n",
        "layer first, followed by a positional encoding layer to account for the order\n",
        "of the word (see the next paragraph for more details). The\n",
        "``nn.TransformerEncoder`` consists of multiple layers of\n",
        "[nn.TransformerEncoderLayer](https://pytorch.org/docs/master/nn.html?highlight=transformerencoderlayer#torch.nn.TransformerEncoderLayer) . Along with the input sequence, a square\n",
        "attention mask is required because the self-attention layers in\n",
        "``nn.TransformerEncoder`` are only allowed to attend the earlier positions in\n",
        "the sequence. For the language modeling task, any tokens on the future\n",
        "positions should be masked. To have the actual words, the output\n",
        "of ``nn.TransformerEncoder`` model is sent to the final Linear\n",
        "layer, which is followed by a log-Softmax function.\n",
        "\n",
        "\n"
      ]
    },
    {
      "cell_type": "markdown",
      "metadata": {
        "id": "UY8FTTcSa_f7"
      },
      "source": [
        "### Transformer Model"
      ]
    },
    {
      "cell_type": "code",
      "metadata": {
        "id": "po8nLNxXWPQy"
      },
      "source": [
        "import math\n",
        "import torch\n",
        "import torch.nn as nn\n",
        "import torch.nn.functional as F\n",
        "\n",
        "class TransformerModel(nn.Module):\n",
        "\n",
        "    def __init__(self, ntoken, ninp, nhead, nhid, nlayers, dropout=0.5):\n",
        "        super(TransformerModel, self).__init__()\n",
        "        from torch.nn import TransformerEncoder, TransformerEncoderLayer\n",
        "        self.model_type = 'Transformer'\n",
        "        self.src_mask = None\n",
        "        self.pos_encoder = PositionalEncoding(ninp, dropout)\n",
        "        encoder_layers = TransformerEncoderLayer(ninp, nhead, nhid, dropout)\n",
        "        self.transformer_encoder = TransformerEncoder(encoder_layers, nlayers)\n",
        "        self.encoder = nn.Embedding(ntoken, ninp)\n",
        "        self.ninp = ninp\n",
        "        self.decoder = nn.Linear(ninp, ntoken)\n",
        "\n",
        "        self.init_weights()\n",
        "\n",
        "    def _generate_square_subsequent_mask(self, sz):\n",
        "        #triu returns the upper triangular part of a matrix (2-D tensor) or batch of matrices (see section below)\n",
        "        mask = (torch.triu(torch.ones(sz, sz)) == 1).transpose(0, 1)\n",
        "        mask = mask.float().masked_fill(mask == 0, float('-inf')).masked_fill(mask == 1, float(0.0))\n",
        "        return mask\n",
        "\n",
        "    def init_weights(self):\n",
        "        initrange = 0.1\n",
        "        self.encoder.weight.data.uniform_(-initrange, initrange)\n",
        "        self.decoder.bias.data.zero_()\n",
        "        self.decoder.weight.data.uniform_(-initrange, initrange)\n",
        "\n",
        "    def forward(self, src):\n",
        "        if self.src_mask is None or self.src_mask.size(0) != len(src):\n",
        "            device = src.device\n",
        "            mask = self._generate_square_subsequent_mask(len(src)).to(device)\n",
        "            self.src_mask = mask\n",
        "\n",
        "        src = self.encoder(src) * math.sqrt(self.ninp)\n",
        "        src = self.pos_encoder(src)\n",
        "        output = self.transformer_encoder(src, self.src_mask)\n",
        "        output = self.decoder(output)\n",
        "        return output"
      ],
      "execution_count": null,
      "outputs": []
    },
    {
      "cell_type": "markdown",
      "metadata": {
        "id": "yYv1_CYrJzFG"
      },
      "source": [
        "#### Masking\n",
        "By passing the mask into the transformer_encoder forward() function, the attention will only be calculated on the earlier positions in the sequence."
      ]
    },
    {
      "cell_type": "code",
      "metadata": {
        "id": "JKVBR--Galxk",
        "colab": {
          "base_uri": "https://localhost:8080/"
        },
        "outputId": "74205ea6-6080-4add-8001-11c440cf78a3"
      },
      "source": [
        "#triu returns the upper triangular part of a matrix (2-D tensor) or batch of matrices (see section below)\n",
        "torch.triu(torch.ones(3, 3))"
      ],
      "execution_count": null,
      "outputs": [
        {
          "output_type": "execute_result",
          "data": {
            "text/plain": [
              "tensor([[1., 1., 1.],\n",
              "        [0., 1., 1.],\n",
              "        [0., 0., 1.]])"
            ]
          },
          "metadata": {},
          "execution_count": 3
        }
      ]
    },
    {
      "cell_type": "code",
      "metadata": {
        "id": "btnWrvo-ayP2",
        "colab": {
          "base_uri": "https://localhost:8080/"
        },
        "outputId": "7b390671-c119-476c-a894-7f624411010c"
      },
      "source": [
        "# Masking\n",
        "def masking():\n",
        "  sz = 4\n",
        "  mask = (torch.triu(torch.ones(sz, sz)) == 1).transpose(0, 1)\n",
        "  mask = mask.float().masked_fill(mask == 0, float('-inf')).masked_fill(mask == 1, float(0.0))\n",
        "\n",
        "  return mask\n",
        "\n",
        "masking()"
      ],
      "execution_count": null,
      "outputs": [
        {
          "output_type": "execute_result",
          "data": {
            "text/plain": [
              "tensor([[0., -inf, -inf, -inf],\n",
              "        [0., 0., -inf, -inf],\n",
              "        [0., 0., 0., -inf],\n",
              "        [0., 0., 0., 0.]])"
            ]
          },
          "metadata": {},
          "execution_count": 4
        }
      ]
    },
    {
      "cell_type": "markdown",
      "metadata": {
        "id": "jh47UCwObCf-"
      },
      "source": [
        "### Positional Encoding"
      ]
    },
    {
      "cell_type": "markdown",
      "metadata": {
        "id": "-xdCyMPQWPQ3"
      },
      "source": [
        "Transformer architecture takes base architecture of Seq2Seq model (Encoder - Decoder). However, the transformer does not use recurrent model so this means we need a module that captures sequence information of the input/output.\n",
        "\n",
        "``PositionalEncoding`` module injects some information about the\n",
        "relative or absolute position of the tokens in the sequence. The\n",
        "positional encodings have the same dimension as the embeddings so that\n",
        "the two can be summed. Here, we use ``sine`` and ``cosine`` functions of\n",
        "different frequencies.\n",
        "\n",
        "\n",
        "\n",
        "\n"
      ]
    },
    {
      "cell_type": "code",
      "metadata": {
        "id": "ffk_fy_eWPQ4"
      },
      "source": [
        "class PositionalEncoding(nn.Module):\n",
        "\n",
        "    def __init__(self, d_model, dropout=0.1, max_len=5000):\n",
        "        super(PositionalEncoding, self).__init__()\n",
        "        self.dropout = nn.Dropout(p=dropout)\n",
        "\n",
        "        pe = torch.zeros(max_len, d_model)\n",
        "        position = torch.arange(0, max_len, dtype=torch.float).unsqueeze(1)\n",
        "        div_term = torch.exp(torch.arange(0, d_model, 2).float() * (-math.log(10000.0) / d_model))\n",
        "        pe[:, 0::2] = torch.sin(position * div_term) #0::2 means starting with index 0, step = 2\n",
        "        pe[:, 1::2] = torch.cos(position * div_term)\n",
        "        pe = pe.unsqueeze(0).transpose(0, 1)\n",
        "        self.register_buffer('pe', pe)\n",
        "\n",
        "    def forward(self, x):\n",
        "        x = x + self.pe[:x.size(0), :]\n",
        "        return self.dropout(x)"
      ],
      "execution_count": null,
      "outputs": []
    },
    {
      "cell_type": "markdown",
      "metadata": {
        "id": "65glmcV4WPQ9"
      },
      "source": [
        "Load and batch data\n",
        "-------------------\n",
        "\n",
        "\n"
      ]
    },
    {
      "cell_type": "markdown",
      "metadata": {
        "id": "aHI1s_A_WPQ-"
      },
      "source": [
        "The training process uses Wikitext-2 dataset from ``torchtext``. The\n",
        "vocab object is built based on the train dataset and is used to numericalize\n",
        "tokens into tensors. Starting from sequential data, the ``batchify()``\n",
        "function arranges the dataset into columns, trimming off any tokens remaining\n",
        "after the data has been divided into batches of size ``batch_size``.\n",
        "For instance, with the alphabet as the sequence (total length of 26)\n",
        "and a batch size of 4, we would divide the alphabet into 4 sequences of\n",
        "length 6:\n",
        "\n",
        "\\begin{align}\\begin{bmatrix}\n",
        "  \\text{A} & \\text{B} & \\text{C} & \\ldots & \\text{X} & \\text{Y} & \\text{Z}\n",
        "  \\end{bmatrix}\n",
        "  \\Rightarrow\n",
        "  \\begin{bmatrix}\n",
        "  \\begin{bmatrix}\\text{A} \\\\ \\text{B} \\\\ \\text{C} \\\\ \\text{D} \\\\ \\text{E} \\\\ \\text{F}\\end{bmatrix} &\n",
        "  \\begin{bmatrix}\\text{G} \\\\ \\text{H} \\\\ \\text{I} \\\\ \\text{J} \\\\ \\text{K} \\\\ \\text{L}\\end{bmatrix} &\n",
        "  \\begin{bmatrix}\\text{M} \\\\ \\text{N} \\\\ \\text{O} \\\\ \\text{P} \\\\ \\text{Q} \\\\ \\text{R}\\end{bmatrix} &\n",
        "  \\begin{bmatrix}\\text{S} \\\\ \\text{T} \\\\ \\text{U} \\\\ \\text{V} \\\\ \\text{W} \\\\ \\text{X}\\end{bmatrix}\n",
        "  \\end{bmatrix}\\end{align}\n",
        "\n",
        "These columns are treated as independent by the model, which means that\n",
        "the dependence of ``G`` and ``F`` can not be learned, but allows more\n",
        "efficient batch processing.\n",
        "\n",
        "\n"
      ]
    },
    {
      "cell_type": "code",
      "metadata": {
        "id": "2bJTXDCtWPQ_",
        "colab": {
          "base_uri": "https://localhost:8080/"
        },
        "outputId": "580b4d9d-bf0d-4700-a168-805ed76e0973"
      },
      "source": [
        "import torchtext\n",
        "from torchtext.data.utils import get_tokenizer\n",
        "TEXT = torchtext.data.Field(tokenize=get_tokenizer(\"basic_english\"),\n",
        "                            init_token='<sos>',\n",
        "                            eos_token='<eos>',\n",
        "                            lower=True)\n",
        "train_txt, val_txt, test_txt = torchtext.datasets.WikiText2.splits(TEXT)\n",
        "TEXT.build_vocab(train_txt)\n",
        "device = torch.device(\"cuda\" if torch.cuda.is_available() else \"cpu\")\n",
        "\n",
        "def batchify(data, bsz):\n",
        "    data = TEXT.numericalize([data.examples[0].text])\n",
        "    # Divide the dataset into bsz parts.\n",
        "    nbatch = data.size(0) // bsz\n",
        "    # Trim off any extra elements that wouldn't cleanly fit (remainders).\n",
        "    data = data.narrow(0, 0, nbatch * bsz)\n",
        "    # Evenly divide the data across the bsz batches.\n",
        "    data = data.view(bsz, -1).t().contiguous()\n",
        "    return data.to(device)\n",
        "\n",
        "batch_size = 20\n",
        "eval_batch_size = 10\n",
        "train_data = batchify(train_txt, batch_size)\n",
        "val_data = batchify(val_txt, eval_batch_size)\n",
        "test_data = batchify(test_txt, eval_batch_size)"
      ],
      "execution_count": null,
      "outputs": [
        {
          "output_type": "stream",
          "name": "stdout",
          "text": [
            "downloading wikitext-2-v1.zip\n"
          ]
        },
        {
          "output_type": "stream",
          "name": "stderr",
          "text": [
            "wikitext-2-v1.zip: 100%|██████████| 4.48M/4.48M [00:00<00:00, 29.2MB/s]\n"
          ]
        },
        {
          "output_type": "stream",
          "name": "stdout",
          "text": [
            "extracting\n"
          ]
        }
      ]
    },
    {
      "cell_type": "markdown",
      "metadata": {
        "id": "0OE4TAV9WPRD"
      },
      "source": [
        "Functions to generate input and target sequence\n",
        "\n"
      ]
    },
    {
      "cell_type": "markdown",
      "metadata": {
        "id": "Kq_pEBjoWPRE"
      },
      "source": [
        "``get_batch()`` function generates the input and target sequence for\n",
        "the transformer model. It subdivides the source data into chunks of\n",
        "length ``bptt``. For the language modeling task, the model needs the\n",
        "following words as ``Target``. For example, with a ``bptt`` value of 2,\n",
        "we’d get the following two Variables for ``i`` = 0:\n",
        "\n",
        "![](https://github.com/pytorch/tutorials/blob/gh-pages/_static/img/transformer_input_target.png?raw=1)\n",
        "\n",
        "\n",
        "It should be noted that the chunks are along dimension 0, consistent\n",
        "with the ``S`` dimension in the Transformer model. The batch dimension\n",
        "``N`` is along dimension 1.\n",
        "\n",
        "\n"
      ]
    },
    {
      "cell_type": "code",
      "metadata": {
        "id": "QPhRYAjYWPRE"
      },
      "source": [
        "bptt = 35\n",
        "def get_batch(source, i):\n",
        "    seq_len = min(bptt, len(source) - 1 - i)\n",
        "    data = source[i:i+seq_len]\n",
        "    target = source[i+1:i+1+seq_len].view(-1)\n",
        "    return data, target"
      ],
      "execution_count": null,
      "outputs": []
    },
    {
      "cell_type": "markdown",
      "metadata": {
        "id": "G6_5USduWPRU"
      },
      "source": [
        "Initiate an instance\n",
        "--------------------\n",
        "\n",
        "\n"
      ]
    },
    {
      "cell_type": "markdown",
      "metadata": {
        "id": "Qr6Wa55XWPRV"
      },
      "source": [
        "The model is set up with the hyperparameter below. The vocab size is\n",
        "equal to the length of the vocab object.\n",
        "\n",
        "\n"
      ]
    },
    {
      "cell_type": "code",
      "metadata": {
        "id": "ky6yqdrkWPRW"
      },
      "source": [
        "ntokens = len(TEXT.vocab.stoi) # the size of vocabulary\n",
        "emsize = 200 # embedding dimension\n",
        "nhid = 200 # the dimension of the feedforward network model in nn.TransformerEncoder\n",
        "nlayers = 2 # the number of nn.TransformerEncoderLayer in nn.TransformerEncoder\n",
        "nhead = 2 # the number of heads in the multiheadattention models\n",
        "dropout = 0.2 # the dropout value\n",
        "model = TransformerModel(ntokens, emsize, nhead, nhid, nlayers, dropout).to(device)"
      ],
      "execution_count": null,
      "outputs": []
    },
    {
      "cell_type": "markdown",
      "metadata": {
        "id": "WGCV6PTHWPRd"
      },
      "source": [
        "Run the model\n",
        "-------------\n",
        "\n",
        "\n"
      ]
    },
    {
      "cell_type": "markdown",
      "metadata": {
        "id": "-7nw5RbXWPRf"
      },
      "source": [
        "`CrossEntropyLoss `\n",
        "is applied to track the loss and\n",
        "`SGD `\n",
        "implements stochastic gradient descent method as the optimizer. The initial\n",
        "learning rate is set to 5.0. `StepLR ` is\n",
        "applied to adjust the learn rate through epochs. During the\n",
        "training, we use\n",
        "`nn.utils.clip_grad_norm_ `\n",
        "function to scale all the gradient together to prevent exploding.\n",
        "\n",
        "\n"
      ]
    },
    {
      "cell_type": "code",
      "metadata": {
        "id": "8FrOT_epWPRg"
      },
      "source": [
        "criterion = nn.CrossEntropyLoss()\n",
        "lr = 5.0 # learning rate\n",
        "optimizer = torch.optim.SGD(model.parameters(), lr=lr)\n",
        "scheduler = torch.optim.lr_scheduler.StepLR(optimizer, 1.0, gamma=0.95)\n",
        "\n",
        "import time\n",
        "def train():\n",
        "\n",
        "    model.train() # Turn on the train mode\n",
        "    total_loss = 0.\n",
        "    start_time = time.time()\n",
        "    ntokens = len(TEXT.vocab.stoi)\n",
        "    for batch, i in enumerate(range(0, train_data.size(0) - 1, bptt)):\n",
        "        data, targets = get_batch(train_data, i)\n",
        "        optimizer.zero_grad()\n",
        "        output = model(data)\n",
        "        loss = criterion(output.view(-1, ntokens), targets)\n",
        "        loss.backward()\n",
        "        torch.nn.utils.clip_grad_norm_(model.parameters(), 0.5)\n",
        "        optimizer.step()\n",
        "\n",
        "        total_loss += loss.item()\n",
        "        log_interval = 200\n",
        "        if batch % log_interval == 0 and batch > 0:\n",
        "            cur_loss = total_loss / log_interval\n",
        "            elapsed = time.time() - start_time\n",
        "            print('| epoch {:3d} | {:5d}/{:5d} batches | '\n",
        "                  'lr {:02.2f} | ms/batch {:5.2f} | '\n",
        "                  'loss {:5.2f} | ppl {:8.2f}'.format(\n",
        "                    epoch, batch, len(train_data) // bptt, scheduler.get_lr()[0],\n",
        "                    elapsed * 1000 / log_interval,\n",
        "                    cur_loss, math.exp(cur_loss)))\n",
        "            total_loss = 0\n",
        "            start_time = time.time()\n",
        "\n",
        "\n",
        "def evaluate(eval_model, data_source):\n",
        "    eval_model.eval() # Turn on the evaluation mode\n",
        "    total_loss = 0.\n",
        "    ntokens = len(TEXT.vocab.stoi)\n",
        "    with torch.no_grad():\n",
        "        for i in range(0, data_source.size(0) - 1, bptt):\n",
        "            data, targets = get_batch(data_source, i)\n",
        "            output = eval_model(data)\n",
        "            output_flat = output.view(-1, ntokens)\n",
        "            total_loss += len(data) * criterion(output_flat, targets).item()\n",
        "    return total_loss / (len(data_source) - 1)"
      ],
      "execution_count": null,
      "outputs": []
    },
    {
      "cell_type": "markdown",
      "metadata": {
        "id": "B_dj-0RwWPRj"
      },
      "source": [
        "Loop over epochs. Save the model if the validation loss is the best\n",
        "we've seen so far. Adjust the learning rate after each epoch.\n",
        "\n"
      ]
    },
    {
      "cell_type": "code",
      "metadata": {
        "id": "n17HNUS4WPRk",
        "colab": {
          "base_uri": "https://localhost:8080/"
        },
        "outputId": "13f20d4a-acf8-40fb-9e7f-eab98b2d659f"
      },
      "source": [
        "best_val_loss = float(\"inf\")\n",
        "epochs = 3 # The number of epochs\n",
        "best_model = None\n",
        "\n",
        "for epoch in range(1, epochs + 1):\n",
        "    epoch_start_time = time.time()\n",
        "    train()\n",
        "    val_loss = evaluate(model, val_data)\n",
        "    print('-' * 89)\n",
        "    print('| end of epoch {:3d} | time: {:5.2f}s | valid loss {:5.2f} | '\n",
        "          'valid ppl {:8.2f}'.format(epoch, (time.time() - epoch_start_time),\n",
        "                                     val_loss, math.exp(val_loss)))\n",
        "    print('-' * 89)\n",
        "\n",
        "    if val_loss < best_val_loss:\n",
        "        best_val_loss = val_loss\n",
        "        best_model = model\n",
        "\n",
        "    scheduler.step()"
      ],
      "execution_count": null,
      "outputs": [
        {
          "output_type": "stream",
          "name": "stderr",
          "text": [
            "/usr/local/lib/python3.7/dist-packages/torch/optim/lr_scheduler.py:372: UserWarning: To get the last learning rate computed by the scheduler, please use `get_last_lr()`.\n",
            "  \"please use `get_last_lr()`.\", UserWarning)\n"
          ]
        },
        {
          "output_type": "stream",
          "name": "stdout",
          "text": [
            "| epoch   1 |   200/ 2981 batches | lr 5.00 | ms/batch  7.40 | loss  8.10 | ppl  3303.52\n",
            "| epoch   1 |   400/ 2981 batches | lr 5.00 | ms/batch  6.64 | loss  6.83 | ppl   921.08\n",
            "| epoch   1 |   600/ 2981 batches | lr 5.00 | ms/batch  6.69 | loss  6.39 | ppl   596.24\n",
            "| epoch   1 |   800/ 2981 batches | lr 5.00 | ms/batch  6.58 | loss  6.23 | ppl   505.73\n",
            "| epoch   1 |  1000/ 2981 batches | lr 5.00 | ms/batch  6.56 | loss  6.11 | ppl   449.57\n",
            "| epoch   1 |  1200/ 2981 batches | lr 5.00 | ms/batch  6.43 | loss  6.09 | ppl   443.43\n",
            "| epoch   1 |  1400/ 2981 batches | lr 5.00 | ms/batch  6.38 | loss  6.04 | ppl   421.38\n",
            "| epoch   1 |  1600/ 2981 batches | lr 5.00 | ms/batch  6.46 | loss  6.04 | ppl   421.17\n",
            "| epoch   1 |  1800/ 2981 batches | lr 5.00 | ms/batch  6.56 | loss  5.96 | ppl   387.11\n",
            "| epoch   1 |  2000/ 2981 batches | lr 5.00 | ms/batch  6.65 | loss  5.96 | ppl   385.96\n",
            "| epoch   1 |  2200/ 2981 batches | lr 5.00 | ms/batch  6.58 | loss  5.85 | ppl   345.90\n",
            "| epoch   1 |  2400/ 2981 batches | lr 5.00 | ms/batch  6.64 | loss  5.89 | ppl   360.27\n",
            "| epoch   1 |  2600/ 2981 batches | lr 5.00 | ms/batch  6.76 | loss  5.90 | ppl   364.99\n",
            "| epoch   1 |  2800/ 2981 batches | lr 5.00 | ms/batch  6.50 | loss  5.79 | ppl   327.76\n",
            "-----------------------------------------------------------------------------------------\n",
            "| end of epoch   1 | time: 20.93s | valid loss  5.73 | valid ppl   307.45\n",
            "-----------------------------------------------------------------------------------------\n",
            "| epoch   2 |   200/ 2981 batches | lr 4.51 | ms/batch  6.61 | loss  5.80 | ppl   330.97\n",
            "| epoch   2 |   400/ 2981 batches | lr 4.51 | ms/batch  6.58 | loss  5.77 | ppl   321.63\n",
            "| epoch   2 |   600/ 2981 batches | lr 4.51 | ms/batch  6.78 | loss  5.60 | ppl   271.75\n",
            "| epoch   2 |   800/ 2981 batches | lr 4.51 | ms/batch  6.50 | loss  5.64 | ppl   280.17\n",
            "| epoch   2 |  1000/ 2981 batches | lr 4.51 | ms/batch  6.55 | loss  5.58 | ppl   264.32\n",
            "| epoch   2 |  1200/ 2981 batches | lr 4.51 | ms/batch  6.52 | loss  5.61 | ppl   273.74\n",
            "| epoch   2 |  1400/ 2981 batches | lr 4.51 | ms/batch  6.50 | loss  5.63 | ppl   278.60\n",
            "| epoch   2 |  1600/ 2981 batches | lr 4.51 | ms/batch  6.49 | loss  5.66 | ppl   287.52\n",
            "| epoch   2 |  1800/ 2981 batches | lr 4.51 | ms/batch  6.56 | loss  5.59 | ppl   267.55\n",
            "| epoch   2 |  2000/ 2981 batches | lr 4.51 | ms/batch  6.59 | loss  5.62 | ppl   274.58\n",
            "| epoch   2 |  2200/ 2981 batches | lr 4.51 | ms/batch  6.46 | loss  5.51 | ppl   247.01\n",
            "| epoch   2 |  2400/ 2981 batches | lr 4.51 | ms/batch  6.52 | loss  5.58 | ppl   263.86\n",
            "| epoch   2 |  2600/ 2981 batches | lr 4.51 | ms/batch  6.53 | loss  5.59 | ppl   266.54\n",
            "| epoch   2 |  2800/ 2981 batches | lr 4.51 | ms/batch  6.47 | loss  5.51 | ppl   246.16\n",
            "-----------------------------------------------------------------------------------------\n",
            "| end of epoch   2 | time: 20.69s | valid loss  5.56 | valid ppl   260.60\n",
            "-----------------------------------------------------------------------------------------\n",
            "| epoch   3 |   200/ 2981 batches | lr 4.29 | ms/batch  6.45 | loss  5.55 | ppl   256.12\n",
            "| epoch   3 |   400/ 2981 batches | lr 4.29 | ms/batch  6.49 | loss  5.55 | ppl   257.61\n",
            "| epoch   3 |   600/ 2981 batches | lr 4.29 | ms/batch  6.77 | loss  5.36 | ppl   213.32\n",
            "| epoch   3 |   800/ 2981 batches | lr 4.29 | ms/batch  6.59 | loss  5.41 | ppl   224.05\n",
            "| epoch   3 |  1000/ 2981 batches | lr 4.29 | ms/batch  6.61 | loss  5.37 | ppl   215.34\n",
            "| epoch   3 |  1200/ 2981 batches | lr 4.29 | ms/batch  6.52 | loss  5.42 | ppl   224.95\n",
            "| epoch   3 |  1400/ 2981 batches | lr 4.29 | ms/batch  6.58 | loss  5.43 | ppl   228.03\n",
            "| epoch   3 |  1600/ 2981 batches | lr 4.29 | ms/batch  6.67 | loss  5.47 | ppl   237.30\n",
            "| epoch   3 |  1800/ 2981 batches | lr 4.29 | ms/batch  6.67 | loss  5.40 | ppl   221.44\n",
            "| epoch   3 |  2000/ 2981 batches | lr 4.29 | ms/batch  6.47 | loss  5.43 | ppl   228.19\n",
            "| epoch   3 |  2200/ 2981 batches | lr 4.29 | ms/batch  6.48 | loss  5.32 | ppl   203.67\n",
            "| epoch   3 |  2400/ 2981 batches | lr 4.29 | ms/batch  6.46 | loss  5.39 | ppl   218.80\n",
            "| epoch   3 |  2600/ 2981 batches | lr 4.29 | ms/batch  6.72 | loss  5.41 | ppl   224.51\n",
            "| epoch   3 |  2800/ 2981 batches | lr 4.29 | ms/batch  6.41 | loss  5.35 | ppl   209.66\n",
            "-----------------------------------------------------------------------------------------\n",
            "| end of epoch   3 | time: 20.71s | valid loss  5.50 | valid ppl   244.12\n",
            "-----------------------------------------------------------------------------------------\n"
          ]
        }
      ]
    },
    {
      "cell_type": "markdown",
      "metadata": {
        "id": "stKeoW99WPRn"
      },
      "source": [
        "Evaluate the model with the test dataset\n",
        "-------------------------------------\n",
        "\n",
        "Apply the best model to check the result with the test dataset.\n",
        "\n"
      ]
    },
    {
      "cell_type": "code",
      "metadata": {
        "id": "VxzbDUnFWPRp",
        "colab": {
          "base_uri": "https://localhost:8080/"
        },
        "outputId": "f80eaf92-74d6-4dca-bfce-a24def9410b2"
      },
      "source": [
        "test_loss = evaluate(best_model, test_data)\n",
        "print('=' * 89)\n",
        "print('| End of training | test loss {:5.2f} | test ppl {:8.2f}'.format(\n",
        "    test_loss, math.exp(test_loss)))\n",
        "print('=' * 89)"
      ],
      "execution_count": null,
      "outputs": [
        {
          "output_type": "stream",
          "name": "stdout",
          "text": [
            "=========================================================================================\n",
            "| End of training | test loss  5.40 | test ppl   221.86\n",
            "=========================================================================================\n"
          ]
        }
      ]
    },
    {
      "cell_type": "markdown",
      "metadata": {
        "id": "FC3ND0e8I4Z9"
      },
      "source": [
        "# Hugging Face Transformer\n",
        "\n",
        "Hugging Face is a library providing transformers and related models. The tutorial links can be found here: https://huggingface.co/transformers/notebooks.html\n",
        "\n",
        "**Note**: You MUST NOT fine-tune a pretrained model in Assignment2!"
      ]
    },
    {
      "cell_type": "markdown",
      "metadata": {
        "id": "C4xteNApjplg"
      },
      "source": [
        "# Exercise"
      ]
    },
    {
      "cell_type": "markdown",
      "metadata": {
        "id": "edjjkL_SjrL0"
      },
      "source": [
        "## E1. Multiple Choice Questions\n",
        "***Please check the following Ed Q Link.*** We have two MCQ Questions (0.5 marks for each Q). If you answer only one question correctly, you will receive 0.5 out of 1.\n",
        "\n",
        "E1 (Ed Q Link): https://edstem.org/au/courses/7951/lessons/21668/slides/154743\n",
        "\n"
      ]
    },
    {
      "cell_type": "markdown",
      "metadata": {
        "id": "MdmzzhI5iP93"
      },
      "source": [
        "## E2 Test with Transformer\n",
        "Try different number of heads in Multi-head Attention, **or** different number of encoders, and record the test performance. Draw a graph to show the test performance (or validation losses/ppls) vs number of heads, or the test performance (or validation losses/ppls) vs number of encoders, (you can keep epochs = 3)"
      ]
    },
    {
      "cell_type": "code",
      "metadata": {
        "id": "L37XqRug6mKf",
        "colab": {
          "base_uri": "https://localhost:8080/"
        },
        "outputId": "1704b98d-2d9f-4a50-82b9-27919cf82a29"
      },
      "source": [
        "head_list = [1,2,4,8]\n",
        "vali_list = []\n",
        "test_list = []\n",
        "\n",
        "for nhead in head_list:\n",
        "  print(\"====================================================================================================\")\n",
        "  print(f\"Training the model with following configs: number of heads={nhead} & number of encoders=2\")\n",
        "  print(\"====================================================================================================\")\n",
        "  ntokens = len(TEXT.vocab.stoi) # the size of vocabulary\n",
        "  emsize = 200 # embedding dimension\n",
        "  nhid = 200 # the dimension of the feedforward network model in nn.TransformerEncoder\n",
        "  nlayers = 2 # the number of nn.TransformerEncoderLayer in nn.TransformerEncoder\n",
        "  nhead = nhead # the number of heads in the multiheadattention models\n",
        "  dropout = 0.2 # the dropout value\n",
        "  model = TransformerModel(ntokens, emsize, nhead, nhid, nlayers, dropout).to(device)\n",
        "\n",
        "  criterion = nn.CrossEntropyLoss()\n",
        "  lr = 5.0 # learning rate\n",
        "  optimizer = torch.optim.SGD(model.parameters(), lr=lr)\n",
        "  scheduler = torch.optim.lr_scheduler.StepLR(optimizer, 1.0, gamma=0.95)\n",
        "\n",
        "  best_val_loss = float(\"inf\")\n",
        "  epochs = 3 # The number of epochs\n",
        "  best_model = None\n",
        "\n",
        "  temp =[]\n",
        "\n",
        "  for epoch in range(1, epochs + 1):\n",
        "      epoch_start_time = time.time()\n",
        "      train()\n",
        "      val_loss = evaluate(model, val_data)\n",
        "      print('-' * 89)\n",
        "      print('| end of epoch {:3d} | time: {:5.2f}s | valid loss {:5.2f} | '\n",
        "            'valid ppl {:8.2f}'.format(epoch, (time.time() - epoch_start_time),\n",
        "                                      val_loss, math.exp(val_loss)))\n",
        "      print('-' * 89)\n",
        "\n",
        "      if val_loss < best_val_loss:\n",
        "          best_val_loss = val_loss\n",
        "          best_model = model\n",
        "\n",
        "      scheduler.step()\n",
        "      temp.append(math.exp(val_loss))\n",
        "\n",
        "  vali_list.append(temp)\n",
        "\n",
        "  test_loss = evaluate(best_model, test_data)\n",
        "  print('=' * 89)\n",
        "  print('| End of training | test loss {:5.2f} | test ppl {:8.2f}'.format(\n",
        "      test_loss, math.exp(test_loss)))\n",
        "  print('=' * 89)\n",
        "\n",
        "  test_list.append(math.exp(test_loss))"
      ],
      "execution_count": null,
      "outputs": [
        {
          "output_type": "stream",
          "name": "stdout",
          "text": [
            "====================================================================================================\n",
            "Training the model with following configs: number of heads=1 & number of encoders=2\n",
            "====================================================================================================\n"
          ]
        },
        {
          "output_type": "stream",
          "name": "stderr",
          "text": [
            "/usr/local/lib/python3.7/dist-packages/torch/optim/lr_scheduler.py:372: UserWarning: To get the last learning rate computed by the scheduler, please use `get_last_lr()`.\n",
            "  \"please use `get_last_lr()`.\", UserWarning)\n"
          ]
        },
        {
          "output_type": "stream",
          "name": "stdout",
          "text": [
            "| epoch   1 |   200/ 2981 batches | lr 5.00 | ms/batch  7.01 | loss  8.01 | ppl  3021.91\n",
            "| epoch   1 |   400/ 2981 batches | lr 5.00 | ms/batch  6.94 | loss  6.78 | ppl   882.25\n",
            "| epoch   1 |   600/ 2981 batches | lr 5.00 | ms/batch  6.92 | loss  6.37 | ppl   586.83\n",
            "| epoch   1 |   800/ 2981 batches | lr 5.00 | ms/batch  6.92 | loss  6.23 | ppl   507.90\n",
            "| epoch   1 |  1000/ 2981 batches | lr 5.00 | ms/batch  6.82 | loss  6.12 | ppl   454.73\n",
            "| epoch   1 |  1200/ 2981 batches | lr 5.00 | ms/batch  6.89 | loss  6.09 | ppl   443.34\n",
            "| epoch   1 |  1400/ 2981 batches | lr 5.00 | ms/batch  6.93 | loss  6.05 | ppl   424.13\n",
            "| epoch   1 |  1600/ 2981 batches | lr 5.00 | ms/batch  6.92 | loss  6.05 | ppl   422.23\n",
            "| epoch   1 |  1800/ 2981 batches | lr 5.00 | ms/batch  6.92 | loss  5.95 | ppl   384.77\n",
            "| epoch   1 |  2000/ 2981 batches | lr 5.00 | ms/batch  6.81 | loss  5.95 | ppl   385.55\n",
            "| epoch   1 |  2200/ 2981 batches | lr 5.00 | ms/batch  6.95 | loss  5.85 | ppl   348.08\n",
            "| epoch   1 |  2400/ 2981 batches | lr 5.00 | ms/batch  6.94 | loss  5.89 | ppl   362.76\n",
            "| epoch   1 |  2600/ 2981 batches | lr 5.00 | ms/batch  6.94 | loss  5.90 | ppl   366.50\n",
            "| epoch   1 |  2800/ 2981 batches | lr 5.00 | ms/batch  6.94 | loss  5.80 | ppl   331.38\n",
            "-----------------------------------------------------------------------------------------\n",
            "| end of epoch   1 | time: 21.86s | valid loss  5.76 | valid ppl   317.85\n",
            "-----------------------------------------------------------------------------------------\n",
            "| epoch   2 |   200/ 2981 batches | lr 4.51 | ms/batch  7.00 | loss  5.80 | ppl   330.45\n",
            "| epoch   2 |   400/ 2981 batches | lr 4.51 | ms/batch  6.87 | loss  5.77 | ppl   319.45\n",
            "| epoch   2 |   600/ 2981 batches | lr 4.51 | ms/batch  6.97 | loss  5.61 | ppl   272.28\n",
            "| epoch   2 |   800/ 2981 batches | lr 4.51 | ms/batch  6.85 | loss  5.64 | ppl   280.74\n",
            "| epoch   2 |  1000/ 2981 batches | lr 4.51 | ms/batch  6.91 | loss  5.59 | ppl   268.36\n",
            "| epoch   2 |  1200/ 2981 batches | lr 4.51 | ms/batch  6.93 | loss  5.62 | ppl   274.51\n",
            "| epoch   2 |  1400/ 2981 batches | lr 4.51 | ms/batch  6.93 | loss  5.63 | ppl   277.98\n",
            "| epoch   2 |  1600/ 2981 batches | lr 4.51 | ms/batch  6.98 | loss  5.66 | ppl   286.28\n",
            "| epoch   2 |  1800/ 2981 batches | lr 4.51 | ms/batch  6.84 | loss  5.59 | ppl   268.34\n",
            "| epoch   2 |  2000/ 2981 batches | lr 4.51 | ms/batch  6.85 | loss  5.62 | ppl   276.29\n",
            "| epoch   2 |  2200/ 2981 batches | lr 4.51 | ms/batch  6.88 | loss  5.51 | ppl   246.97\n",
            "| epoch   2 |  2400/ 2981 batches | lr 4.51 | ms/batch  6.86 | loss  5.58 | ppl   266.26\n",
            "| epoch   2 |  2600/ 2981 batches | lr 4.51 | ms/batch  6.80 | loss  5.60 | ppl   269.13\n",
            "| epoch   2 |  2800/ 2981 batches | lr 4.51 | ms/batch  6.92 | loss  5.52 | ppl   249.16\n",
            "-----------------------------------------------------------------------------------------\n",
            "| end of epoch   2 | time: 21.79s | valid loss  5.60 | valid ppl   269.72\n",
            "-----------------------------------------------------------------------------------------\n",
            "| epoch   3 |   200/ 2981 batches | lr 4.29 | ms/batch  6.93 | loss  5.54 | ppl   255.79\n",
            "| epoch   3 |   400/ 2981 batches | lr 4.29 | ms/batch  6.83 | loss  5.55 | ppl   256.45\n",
            "| epoch   3 |   600/ 2981 batches | lr 4.29 | ms/batch  7.03 | loss  5.37 | ppl   213.94\n",
            "| epoch   3 |   800/ 2981 batches | lr 4.29 | ms/batch  6.94 | loss  5.41 | ppl   224.64\n",
            "| epoch   3 |  1000/ 2981 batches | lr 4.29 | ms/batch  6.87 | loss  5.37 | ppl   215.15\n",
            "| epoch   3 |  1200/ 2981 batches | lr 4.29 | ms/batch  6.95 | loss  5.41 | ppl   222.96\n",
            "| epoch   3 |  1400/ 2981 batches | lr 4.29 | ms/batch  6.99 | loss  5.43 | ppl   227.93\n",
            "| epoch   3 |  1600/ 2981 batches | lr 4.29 | ms/batch  6.83 | loss  5.47 | ppl   237.37\n",
            "| epoch   3 |  1800/ 2981 batches | lr 4.29 | ms/batch  6.99 | loss  5.40 | ppl   221.06\n",
            "| epoch   3 |  2000/ 2981 batches | lr 4.29 | ms/batch  6.84 | loss  5.43 | ppl   227.56\n",
            "| epoch   3 |  2200/ 2981 batches | lr 4.29 | ms/batch  6.94 | loss  5.31 | ppl   201.71\n",
            "| epoch   3 |  2400/ 2981 batches | lr 4.29 | ms/batch  6.88 | loss  5.39 | ppl   219.08\n",
            "| epoch   3 |  2600/ 2981 batches | lr 4.29 | ms/batch  6.98 | loss  5.41 | ppl   224.15\n",
            "| epoch   3 |  2800/ 2981 batches | lr 4.29 | ms/batch  6.90 | loss  5.33 | ppl   207.02\n",
            "-----------------------------------------------------------------------------------------\n",
            "| end of epoch   3 | time: 21.87s | valid loss  5.51 | valid ppl   247.81\n",
            "-----------------------------------------------------------------------------------------\n",
            "=========================================================================================\n",
            "| End of training | test loss  5.42 | test ppl   225.63\n",
            "=========================================================================================\n",
            "====================================================================================================\n",
            "Training the model with following configs: number of heads=2 & number of encoders=2\n",
            "====================================================================================================\n",
            "| epoch   1 |   200/ 2981 batches | lr 5.00 | ms/batch  6.86 | loss  8.06 | ppl  3174.88\n",
            "| epoch   1 |   400/ 2981 batches | lr 5.00 | ms/batch  6.93 | loss  6.80 | ppl   898.06\n",
            "| epoch   1 |   600/ 2981 batches | lr 5.00 | ms/batch  6.85 | loss  6.38 | ppl   590.50\n",
            "| epoch   1 |   800/ 2981 batches | lr 5.00 | ms/batch  6.89 | loss  6.24 | ppl   513.69\n",
            "| epoch   1 |  1000/ 2981 batches | lr 5.00 | ms/batch  6.89 | loss  6.11 | ppl   451.35\n",
            "| epoch   1 |  1200/ 2981 batches | lr 5.00 | ms/batch  6.95 | loss  6.09 | ppl   441.54\n",
            "| epoch   1 |  1400/ 2981 batches | lr 5.00 | ms/batch  6.88 | loss  6.04 | ppl   420.69\n",
            "| epoch   1 |  1600/ 2981 batches | lr 5.00 | ms/batch  6.83 | loss  6.05 | ppl   422.19\n",
            "| epoch   1 |  1800/ 2981 batches | lr 5.00 | ms/batch  6.82 | loss  5.96 | ppl   386.87\n",
            "| epoch   1 |  2000/ 2981 batches | lr 5.00 | ms/batch  6.91 | loss  5.96 | ppl   385.78\n",
            "| epoch   1 |  2200/ 2981 batches | lr 5.00 | ms/batch  6.84 | loss  5.85 | ppl   345.97\n",
            "| epoch   1 |  2400/ 2981 batches | lr 5.00 | ms/batch  6.80 | loss  5.89 | ppl   362.02\n",
            "| epoch   1 |  2600/ 2981 batches | lr 5.00 | ms/batch  6.84 | loss  5.89 | ppl   361.87\n",
            "| epoch   1 |  2800/ 2981 batches | lr 5.00 | ms/batch  6.95 | loss  5.80 | ppl   330.08\n",
            "-----------------------------------------------------------------------------------------\n",
            "| end of epoch   1 | time: 21.66s | valid loss  5.69 | valid ppl   296.10\n",
            "-----------------------------------------------------------------------------------------\n",
            "| epoch   2 |   200/ 2981 batches | lr 4.51 | ms/batch  6.95 | loss  5.80 | ppl   330.35\n",
            "| epoch   2 |   400/ 2981 batches | lr 4.51 | ms/batch  6.86 | loss  5.77 | ppl   320.70\n",
            "| epoch   2 |   600/ 2981 batches | lr 4.51 | ms/batch  6.87 | loss  5.60 | ppl   270.67\n",
            "| epoch   2 |   800/ 2981 batches | lr 4.51 | ms/batch  7.04 | loss  5.63 | ppl   279.79\n",
            "| epoch   2 |  1000/ 2981 batches | lr 4.51 | ms/batch  6.95 | loss  5.58 | ppl   265.40\n",
            "| epoch   2 |  1200/ 2981 batches | lr 4.51 | ms/batch  6.83 | loss  5.61 | ppl   273.53\n",
            "| epoch   2 |  1400/ 2981 batches | lr 4.51 | ms/batch  6.79 | loss  5.63 | ppl   277.76\n",
            "| epoch   2 |  1600/ 2981 batches | lr 4.51 | ms/batch  6.78 | loss  5.66 | ppl   288.13\n",
            "| epoch   2 |  1800/ 2981 batches | lr 4.51 | ms/batch  6.84 | loss  5.60 | ppl   270.19\n",
            "| epoch   2 |  2000/ 2981 batches | lr 4.51 | ms/batch  6.91 | loss  5.62 | ppl   274.66\n",
            "| epoch   2 |  2200/ 2981 batches | lr 4.51 | ms/batch  6.85 | loss  5.51 | ppl   247.82\n",
            "| epoch   2 |  2400/ 2981 batches | lr 4.51 | ms/batch  6.87 | loss  5.58 | ppl   264.14\n",
            "| epoch   2 |  2600/ 2981 batches | lr 4.51 | ms/batch  6.83 | loss  5.59 | ppl   266.44\n",
            "| epoch   2 |  2800/ 2981 batches | lr 4.51 | ms/batch  6.81 | loss  5.51 | ppl   246.26\n",
            "-----------------------------------------------------------------------------------------\n",
            "| end of epoch   2 | time: 21.68s | valid loss  5.56 | valid ppl   259.02\n",
            "-----------------------------------------------------------------------------------------\n",
            "| epoch   3 |   200/ 2981 batches | lr 4.29 | ms/batch  6.89 | loss  5.55 | ppl   256.37\n",
            "| epoch   3 |   400/ 2981 batches | lr 4.29 | ms/batch  6.85 | loss  5.55 | ppl   257.80\n",
            "| epoch   3 |   600/ 2981 batches | lr 4.29 | ms/batch  6.82 | loss  5.37 | ppl   214.58\n",
            "| epoch   3 |   800/ 2981 batches | lr 4.29 | ms/batch  6.84 | loss  5.42 | ppl   225.36\n",
            "| epoch   3 |  1000/ 2981 batches | lr 4.29 | ms/batch  6.79 | loss  5.38 | ppl   216.18\n",
            "| epoch   3 |  1200/ 2981 batches | lr 4.29 | ms/batch  6.81 | loss  5.41 | ppl   224.01\n",
            "| epoch   3 |  1400/ 2981 batches | lr 4.29 | ms/batch  6.87 | loss  5.43 | ppl   227.46\n",
            "| epoch   3 |  1600/ 2981 batches | lr 4.29 | ms/batch  6.80 | loss  5.47 | ppl   237.81\n",
            "| epoch   3 |  1800/ 2981 batches | lr 4.29 | ms/batch  6.82 | loss  5.40 | ppl   222.22\n",
            "| epoch   3 |  2000/ 2981 batches | lr 4.29 | ms/batch  6.90 | loss  5.42 | ppl   226.96\n",
            "| epoch   3 |  2200/ 2981 batches | lr 4.29 | ms/batch  6.82 | loss  5.32 | ppl   205.28\n",
            "| epoch   3 |  2400/ 2981 batches | lr 4.29 | ms/batch  6.93 | loss  5.40 | ppl   220.54\n",
            "| epoch   3 |  2600/ 2981 batches | lr 4.29 | ms/batch  6.86 | loss  5.41 | ppl   223.59\n",
            "| epoch   3 |  2800/ 2981 batches | lr 4.29 | ms/batch  6.86 | loss  5.34 | ppl   208.42\n",
            "-----------------------------------------------------------------------------------------\n",
            "| end of epoch   3 | time: 21.62s | valid loss  5.54 | valid ppl   253.66\n",
            "-----------------------------------------------------------------------------------------\n",
            "=========================================================================================\n",
            "| End of training | test loss  5.44 | test ppl   229.44\n",
            "=========================================================================================\n",
            "====================================================================================================\n",
            "Training the model with following configs: number of heads=4 & number of encoders=2\n",
            "====================================================================================================\n",
            "| epoch   1 |   200/ 2981 batches | lr 5.00 | ms/batch  6.82 | loss  8.06 | ppl  3161.62\n",
            "| epoch   1 |   400/ 2981 batches | lr 5.00 | ms/batch  6.88 | loss  6.80 | ppl   902.32\n",
            "| epoch   1 |   600/ 2981 batches | lr 5.00 | ms/batch  6.87 | loss  6.36 | ppl   578.46\n",
            "| epoch   1 |   800/ 2981 batches | lr 5.00 | ms/batch  6.75 | loss  6.22 | ppl   502.82\n",
            "| epoch   1 |  1000/ 2981 batches | lr 5.00 | ms/batch  6.86 | loss  6.10 | ppl   446.39\n",
            "| epoch   1 |  1200/ 2981 batches | lr 5.00 | ms/batch  6.77 | loss  6.08 | ppl   437.41\n",
            "| epoch   1 |  1400/ 2981 batches | lr 5.00 | ms/batch  6.79 | loss  6.03 | ppl   415.34\n",
            "| epoch   1 |  1600/ 2981 batches | lr 5.00 | ms/batch  6.92 | loss  6.04 | ppl   418.82\n",
            "| epoch   1 |  1800/ 2981 batches | lr 5.00 | ms/batch  6.71 | loss  5.95 | ppl   382.22\n",
            "| epoch   1 |  2000/ 2981 batches | lr 5.00 | ms/batch  6.91 | loss  5.96 | ppl   386.60\n",
            "| epoch   1 |  2200/ 2981 batches | lr 5.00 | ms/batch  6.99 | loss  5.84 | ppl   342.57\n",
            "| epoch   1 |  2400/ 2981 batches | lr 5.00 | ms/batch  6.88 | loss  5.89 | ppl   362.54\n",
            "| epoch   1 |  2600/ 2981 batches | lr 5.00 | ms/batch  6.93 | loss  5.89 | ppl   361.94\n",
            "| epoch   1 |  2800/ 2981 batches | lr 5.00 | ms/batch  6.80 | loss  5.80 | ppl   329.80\n",
            "-----------------------------------------------------------------------------------------\n",
            "| end of epoch   1 | time: 21.65s | valid loss  5.73 | valid ppl   308.78\n",
            "-----------------------------------------------------------------------------------------\n",
            "| epoch   2 |   200/ 2981 batches | lr 4.51 | ms/batch  6.93 | loss  5.80 | ppl   328.83\n",
            "| epoch   2 |   400/ 2981 batches | lr 4.51 | ms/batch  6.85 | loss  5.77 | ppl   319.75\n",
            "| epoch   2 |   600/ 2981 batches | lr 4.51 | ms/batch  7.00 | loss  5.59 | ppl   269.06\n",
            "| epoch   2 |   800/ 2981 batches | lr 4.51 | ms/batch  7.16 | loss  5.63 | ppl   279.63\n",
            "| epoch   2 |  1000/ 2981 batches | lr 4.51 | ms/batch  6.98 | loss  5.58 | ppl   265.14\n",
            "| epoch   2 |  1200/ 2981 batches | lr 4.51 | ms/batch  7.02 | loss  5.62 | ppl   274.52\n",
            "| epoch   2 |  1400/ 2981 batches | lr 4.51 | ms/batch  6.84 | loss  5.62 | ppl   276.86\n",
            "| epoch   2 |  1600/ 2981 batches | lr 4.51 | ms/batch  7.00 | loss  5.66 | ppl   287.20\n",
            "| epoch   2 |  1800/ 2981 batches | lr 4.51 | ms/batch  6.77 | loss  5.59 | ppl   267.09\n",
            "| epoch   2 |  2000/ 2981 batches | lr 4.51 | ms/batch  6.84 | loss  5.62 | ppl   276.70\n",
            "| epoch   2 |  2200/ 2981 batches | lr 4.51 | ms/batch  6.91 | loss  5.51 | ppl   248.10\n",
            "| epoch   2 |  2400/ 2981 batches | lr 4.51 | ms/batch  6.83 | loss  5.58 | ppl   265.99\n",
            "| epoch   2 |  2600/ 2981 batches | lr 4.51 | ms/batch  6.85 | loss  5.59 | ppl   267.26\n",
            "| epoch   2 |  2800/ 2981 batches | lr 4.51 | ms/batch  7.01 | loss  5.51 | ppl   248.38\n",
            "-----------------------------------------------------------------------------------------\n",
            "| end of epoch   2 | time: 21.89s | valid loss  5.60 | valid ppl   269.42\n",
            "-----------------------------------------------------------------------------------------\n",
            "| epoch   3 |   200/ 2981 batches | lr 4.29 | ms/batch  7.10 | loss  5.55 | ppl   257.18\n",
            "| epoch   3 |   400/ 2981 batches | lr 4.29 | ms/batch  6.97 | loss  5.55 | ppl   257.42\n",
            "| epoch   3 |   600/ 2981 batches | lr 4.29 | ms/batch  7.02 | loss  5.37 | ppl   214.33\n",
            "| epoch   3 |   800/ 2981 batches | lr 4.29 | ms/batch  7.43 | loss  5.42 | ppl   226.76\n",
            "| epoch   3 |  1000/ 2981 batches | lr 4.29 | ms/batch  7.04 | loss  5.39 | ppl   218.21\n",
            "| epoch   3 |  1200/ 2981 batches | lr 4.29 | ms/batch  6.92 | loss  5.42 | ppl   225.44\n",
            "| epoch   3 |  1400/ 2981 batches | lr 4.29 | ms/batch  7.00 | loss  5.44 | ppl   229.59\n",
            "| epoch   3 |  1600/ 2981 batches | lr 4.29 | ms/batch  6.97 | loss  5.48 | ppl   238.84\n",
            "| epoch   3 |  1800/ 2981 batches | lr 4.29 | ms/batch  6.91 | loss  5.41 | ppl   222.90\n",
            "| epoch   3 |  2000/ 2981 batches | lr 4.29 | ms/batch  6.91 | loss  5.44 | ppl   231.06\n",
            "| epoch   3 |  2200/ 2981 batches | lr 4.29 | ms/batch  6.94 | loss  5.32 | ppl   205.27\n",
            "| epoch   3 |  2400/ 2981 batches | lr 4.29 | ms/batch  6.97 | loss  5.41 | ppl   222.64\n",
            "| epoch   3 |  2600/ 2981 batches | lr 4.29 | ms/batch  6.95 | loss  5.42 | ppl   226.52\n",
            "| epoch   3 |  2800/ 2981 batches | lr 4.29 | ms/batch  6.97 | loss  5.35 | ppl   211.07\n",
            "-----------------------------------------------------------------------------------------\n",
            "| end of epoch   3 | time: 22.11s | valid loss  5.51 | valid ppl   246.02\n",
            "-----------------------------------------------------------------------------------------\n",
            "=========================================================================================\n",
            "| End of training | test loss  5.41 | test ppl   223.81\n",
            "=========================================================================================\n",
            "====================================================================================================\n",
            "Training the model with following configs: number of heads=8 & number of encoders=2\n",
            "====================================================================================================\n",
            "| epoch   1 |   200/ 2981 batches | lr 5.00 | ms/batch  7.53 | loss  7.93 | ppl  2789.13\n",
            "| epoch   1 |   400/ 2981 batches | lr 5.00 | ms/batch  7.48 | loss  6.73 | ppl   839.07\n",
            "| epoch   1 |   600/ 2981 batches | lr 5.00 | ms/batch  7.60 | loss  6.34 | ppl   566.87\n",
            "| epoch   1 |   800/ 2981 batches | lr 5.00 | ms/batch  7.05 | loss  6.22 | ppl   501.71\n",
            "| epoch   1 |  1000/ 2981 batches | lr 5.00 | ms/batch  6.97 | loss  6.10 | ppl   444.07\n",
            "| epoch   1 |  1200/ 2981 batches | lr 5.00 | ms/batch  7.03 | loss  6.07 | ppl   432.47\n",
            "| epoch   1 |  1400/ 2981 batches | lr 5.00 | ms/batch  7.11 | loss  6.02 | ppl   410.84\n",
            "| epoch   1 |  1600/ 2981 batches | lr 5.00 | ms/batch  7.27 | loss  6.04 | ppl   418.17\n",
            "| epoch   1 |  1800/ 2981 batches | lr 5.00 | ms/batch  7.58 | loss  5.95 | ppl   381.93\n",
            "| epoch   1 |  2000/ 2981 batches | lr 5.00 | ms/batch  7.75 | loss  5.94 | ppl   381.78\n",
            "| epoch   1 |  2200/ 2981 batches | lr 5.00 | ms/batch  7.47 | loss  5.84 | ppl   342.94\n",
            "| epoch   1 |  2400/ 2981 batches | lr 5.00 | ms/batch  7.80 | loss  5.89 | ppl   360.39\n",
            "| epoch   1 |  2600/ 2981 batches | lr 5.00 | ms/batch  6.99 | loss  5.89 | ppl   361.17\n",
            "| epoch   1 |  2800/ 2981 batches | lr 5.00 | ms/batch  7.04 | loss  5.80 | ppl   328.67\n",
            "-----------------------------------------------------------------------------------------\n",
            "| end of epoch   1 | time: 23.06s | valid loss  5.71 | valid ppl   300.58\n",
            "-----------------------------------------------------------------------------------------\n",
            "| epoch   2 |   200/ 2981 batches | lr 4.51 | ms/batch  7.09 | loss  5.79 | ppl   327.91\n",
            "| epoch   2 |   400/ 2981 batches | lr 4.51 | ms/batch  7.33 | loss  5.77 | ppl   319.71\n",
            "| epoch   2 |   600/ 2981 batches | lr 4.51 | ms/batch  7.20 | loss  5.59 | ppl   268.70\n",
            "| epoch   2 |   800/ 2981 batches | lr 4.51 | ms/batch  7.27 | loss  5.63 | ppl   278.77\n",
            "| epoch   2 |  1000/ 2981 batches | lr 4.51 | ms/batch  7.05 | loss  5.58 | ppl   264.56\n",
            "| epoch   2 |  1200/ 2981 batches | lr 4.51 | ms/batch  6.99 | loss  5.61 | ppl   273.48\n",
            "| epoch   2 |  1400/ 2981 batches | lr 4.51 | ms/batch  7.21 | loss  5.62 | ppl   277.12\n",
            "| epoch   2 |  1600/ 2981 batches | lr 4.51 | ms/batch  7.11 | loss  5.67 | ppl   290.20\n",
            "| epoch   2 |  1800/ 2981 batches | lr 4.51 | ms/batch  7.02 | loss  5.60 | ppl   269.29\n",
            "| epoch   2 |  2000/ 2981 batches | lr 4.51 | ms/batch  6.94 | loss  5.62 | ppl   275.93\n",
            "| epoch   2 |  2200/ 2981 batches | lr 4.51 | ms/batch  7.14 | loss  5.52 | ppl   248.53\n",
            "| epoch   2 |  2400/ 2981 batches | lr 4.51 | ms/batch  7.27 | loss  5.58 | ppl   265.92\n",
            "| epoch   2 |  2600/ 2981 batches | lr 4.51 | ms/batch  7.25 | loss  5.59 | ppl   268.00\n",
            "| epoch   2 |  2800/ 2981 batches | lr 4.51 | ms/batch  7.10 | loss  5.52 | ppl   250.73\n",
            "-----------------------------------------------------------------------------------------\n",
            "| end of epoch   2 | time: 22.50s | valid loss  5.59 | valid ppl   268.00\n",
            "-----------------------------------------------------------------------------------------\n",
            "| epoch   3 |   200/ 2981 batches | lr 4.29 | ms/batch  7.12 | loss  5.55 | ppl   257.13\n",
            "| epoch   3 |   400/ 2981 batches | lr 4.29 | ms/batch  7.21 | loss  5.55 | ppl   257.71\n",
            "| epoch   3 |   600/ 2981 batches | lr 4.29 | ms/batch  7.02 | loss  5.37 | ppl   215.13\n",
            "| epoch   3 |   800/ 2981 batches | lr 4.29 | ms/batch  7.06 | loss  5.43 | ppl   227.38\n",
            "| epoch   3 |  1000/ 2981 batches | lr 4.29 | ms/batch  7.01 | loss  5.39 | ppl   218.79\n",
            "| epoch   3 |  1200/ 2981 batches | lr 4.29 | ms/batch  7.04 | loss  5.42 | ppl   225.79\n",
            "| epoch   3 |  1400/ 2981 batches | lr 4.29 | ms/batch  7.00 | loss  5.44 | ppl   230.95\n",
            "| epoch   3 |  1600/ 2981 batches | lr 4.29 | ms/batch  6.99 | loss  5.49 | ppl   242.18\n",
            "| epoch   3 |  1800/ 2981 batches | lr 4.29 | ms/batch  7.11 | loss  5.42 | ppl   225.00\n",
            "| epoch   3 |  2000/ 2981 batches | lr 4.29 | ms/batch  7.15 | loss  5.45 | ppl   232.43\n",
            "| epoch   3 |  2200/ 2981 batches | lr 4.29 | ms/batch  7.17 | loss  5.34 | ppl   207.98\n",
            "| epoch   3 |  2400/ 2981 batches | lr 4.29 | ms/batch  7.20 | loss  5.42 | ppl   224.76\n",
            "| epoch   3 |  2600/ 2981 batches | lr 4.29 | ms/batch  7.06 | loss  5.43 | ppl   228.84\n",
            "| epoch   3 |  2800/ 2981 batches | lr 4.29 | ms/batch  7.15 | loss  5.37 | ppl   214.05\n",
            "-----------------------------------------------------------------------------------------\n",
            "| end of epoch   3 | time: 22.36s | valid loss  5.60 | valid ppl   270.04\n",
            "-----------------------------------------------------------------------------------------\n",
            "=========================================================================================\n",
            "| End of training | test loss  5.49 | test ppl   243.09\n",
            "=========================================================================================\n"
          ]
        }
      ]
    },
    {
      "cell_type": "code",
      "metadata": {
        "colab": {
          "base_uri": "https://localhost:8080/"
        },
        "id": "rr1tjBrpq8Y5",
        "outputId": "6b76a581-c855-479a-877b-af6ac3288949"
      },
      "source": [],
      "execution_count": null,
      "outputs": [
        {
          "output_type": "stream",
          "name": "stdout",
          "text": [
            "====================================================================================================\n",
            "Training the model with following configs: number of heads=1 & number of encoders=2\n",
            "====================================================================================================\n"
          ]
        },
        {
          "output_type": "stream",
          "name": "stderr",
          "text": [
            "/usr/local/lib/python3.7/dist-packages/torch/optim/lr_scheduler.py:372: UserWarning: To get the last learning rate computed by the scheduler, please use `get_last_lr()`.\n",
            "  \"please use `get_last_lr()`.\", UserWarning)\n"
          ]
        },
        {
          "output_type": "stream",
          "name": "stdout",
          "text": [
            "| epoch   1 |   200/ 2981 batches | lr 5.00 | ms/batch 10.29 | loss  8.01 | ppl  3003.67\n",
            "| epoch   1 |   400/ 2981 batches | lr 5.00 | ms/batch 10.25 | loss  6.75 | ppl   856.93\n",
            "| epoch   1 |   600/ 2981 batches | lr 5.00 | ms/batch 10.19 | loss  6.35 | ppl   574.41\n",
            "| epoch   1 |   800/ 2981 batches | lr 5.00 | ms/batch 10.17 | loss  6.24 | ppl   510.32\n",
            "| epoch   1 |  1000/ 2981 batches | lr 5.00 | ms/batch 10.20 | loss  6.13 | ppl   460.66\n",
            "| epoch   1 |  1200/ 2981 batches | lr 5.00 | ms/batch 10.15 | loss  6.10 | ppl   448.01\n",
            "| epoch   1 |  1400/ 2981 batches | lr 5.00 | ms/batch 10.19 | loss  6.06 | ppl   426.84\n",
            "| epoch   1 |  1600/ 2981 batches | lr 5.00 | ms/batch 10.19 | loss  6.06 | ppl   427.45\n",
            "| epoch   1 |  1800/ 2981 batches | lr 5.00 | ms/batch 10.15 | loss  5.97 | ppl   390.75\n",
            "| epoch   1 |  2000/ 2981 batches | lr 5.00 | ms/batch 10.11 | loss  5.97 | ppl   390.69\n",
            "| epoch   1 |  2200/ 2981 batches | lr 5.00 | ms/batch 10.12 | loss  5.86 | ppl   351.54\n",
            "| epoch   1 |  2400/ 2981 batches | lr 5.00 | ms/batch 10.25 | loss  5.91 | ppl   368.22\n",
            "| epoch   1 |  2600/ 2981 batches | lr 5.00 | ms/batch 10.14 | loss  5.91 | ppl   369.59\n",
            "| epoch   1 |  2800/ 2981 batches | lr 5.00 | ms/batch 10.11 | loss  5.81 | ppl   332.68\n",
            "-----------------------------------------------------------------------------------------\n",
            "| end of epoch   1 | time: 31.66s | valid loss  5.77 | valid ppl   320.54\n",
            "-----------------------------------------------------------------------------------------\n",
            "| epoch   2 |   200/ 2981 batches | lr 4.51 | ms/batch 10.20 | loss  5.80 | ppl   331.83\n",
            "| epoch   2 |   400/ 2981 batches | lr 4.51 | ms/batch 10.16 | loss  5.78 | ppl   323.49\n",
            "| epoch   2 |   600/ 2981 batches | lr 4.51 | ms/batch 10.14 | loss  5.61 | ppl   273.97\n",
            "| epoch   2 |   800/ 2981 batches | lr 4.51 | ms/batch 10.16 | loss  5.64 | ppl   281.53\n",
            "| epoch   2 |  1000/ 2981 batches | lr 4.51 | ms/batch 10.24 | loss  5.60 | ppl   270.74\n",
            "| epoch   2 |  1200/ 2981 batches | lr 4.51 | ms/batch 10.17 | loss  5.63 | ppl   277.28\n",
            "| epoch   2 |  1400/ 2981 batches | lr 4.51 | ms/batch 10.20 | loss  5.63 | ppl   279.33\n",
            "| epoch   2 |  1600/ 2981 batches | lr 4.51 | ms/batch 10.11 | loss  5.66 | ppl   288.23\n",
            "| epoch   2 |  1800/ 2981 batches | lr 4.51 | ms/batch 10.11 | loss  5.59 | ppl   267.21\n",
            "| epoch   2 |  2000/ 2981 batches | lr 4.51 | ms/batch 10.11 | loss  5.61 | ppl   274.36\n",
            "| epoch   2 |  2200/ 2981 batches | lr 4.51 | ms/batch 10.14 | loss  5.51 | ppl   246.89\n",
            "| epoch   2 |  2400/ 2981 batches | lr 4.51 | ms/batch 10.19 | loss  5.58 | ppl   264.78\n",
            "| epoch   2 |  2600/ 2981 batches | lr 4.51 | ms/batch 10.17 | loss  5.59 | ppl   267.67\n",
            "| epoch   2 |  2800/ 2981 batches | lr 4.51 | ms/batch 10.22 | loss  5.51 | ppl   247.42\n",
            "-----------------------------------------------------------------------------------------\n",
            "| end of epoch   2 | time: 31.63s | valid loss  5.59 | valid ppl   267.13\n",
            "-----------------------------------------------------------------------------------------\n",
            "| epoch   3 |   200/ 2981 batches | lr 4.29 | ms/batch 10.20 | loss  5.55 | ppl   256.07\n",
            "| epoch   3 |   400/ 2981 batches | lr 4.29 | ms/batch 10.23 | loss  5.55 | ppl   256.82\n",
            "| epoch   3 |   600/ 2981 batches | lr 4.29 | ms/batch 10.12 | loss  5.37 | ppl   214.05\n",
            "| epoch   3 |   800/ 2981 batches | lr 4.29 | ms/batch 10.26 | loss  5.42 | ppl   226.08\n",
            "| epoch   3 |  1000/ 2981 batches | lr 4.29 | ms/batch 10.16 | loss  5.38 | ppl   217.28\n",
            "| epoch   3 |  1200/ 2981 batches | lr 4.29 | ms/batch 10.10 | loss  5.41 | ppl   223.00\n",
            "| epoch   3 |  1400/ 2981 batches | lr 4.29 | ms/batch 10.12 | loss  5.43 | ppl   228.09\n",
            "| epoch   3 |  1600/ 2981 batches | lr 4.29 | ms/batch 10.18 | loss  5.47 | ppl   238.21\n",
            "| epoch   3 |  1800/ 2981 batches | lr 4.29 | ms/batch 10.10 | loss  5.41 | ppl   223.14\n",
            "| epoch   3 |  2000/ 2981 batches | lr 4.29 | ms/batch 10.18 | loss  5.44 | ppl   230.57\n",
            "| epoch   3 |  2200/ 2981 batches | lr 4.29 | ms/batch 10.21 | loss  5.31 | ppl   202.83\n",
            "| epoch   3 |  2400/ 2981 batches | lr 4.29 | ms/batch 10.18 | loss  5.39 | ppl   218.59\n",
            "| epoch   3 |  2600/ 2981 batches | lr 4.29 | ms/batch 10.16 | loss  5.41 | ppl   222.84\n",
            "| epoch   3 |  2800/ 2981 batches | lr 4.29 | ms/batch 10.14 | loss  5.33 | ppl   205.98\n",
            "-----------------------------------------------------------------------------------------\n",
            "| end of epoch   3 | time: 31.63s | valid loss  5.52 | valid ppl   250.29\n",
            "-----------------------------------------------------------------------------------------\n",
            "=========================================================================================\n",
            "| End of training | test loss  5.43 | test ppl   228.57\n",
            "=========================================================================================\n",
            "====================================================================================================\n",
            "Training the model with following configs: number of heads=2 & number of encoders=2\n",
            "====================================================================================================\n",
            "| epoch   1 |   200/ 2981 batches | lr 5.00 | ms/batch 10.24 | loss  8.00 | ppl  2990.66\n",
            "| epoch   1 |   400/ 2981 batches | lr 5.00 | ms/batch 10.25 | loss  6.79 | ppl   884.88\n",
            "| epoch   1 |   600/ 2981 batches | lr 5.00 | ms/batch 10.19 | loss  6.37 | ppl   584.25\n",
            "| epoch   1 |   800/ 2981 batches | lr 5.00 | ms/batch 10.15 | loss  6.23 | ppl   505.40\n",
            "| epoch   1 |  1000/ 2981 batches | lr 5.00 | ms/batch 10.17 | loss  6.12 | ppl   453.10\n",
            "| epoch   1 |  1200/ 2981 batches | lr 5.00 | ms/batch 10.20 | loss  6.09 | ppl   439.88\n",
            "| epoch   1 |  1400/ 2981 batches | lr 5.00 | ms/batch 10.12 | loss  6.04 | ppl   420.08\n",
            "| epoch   1 |  1600/ 2981 batches | lr 5.00 | ms/batch 10.15 | loss  6.05 | ppl   423.35\n",
            "| epoch   1 |  1800/ 2981 batches | lr 5.00 | ms/batch 10.16 | loss  5.95 | ppl   384.77\n",
            "| epoch   1 |  2000/ 2981 batches | lr 5.00 | ms/batch 10.19 | loss  5.96 | ppl   386.42\n",
            "| epoch   1 |  2200/ 2981 batches | lr 5.00 | ms/batch 10.25 | loss  5.84 | ppl   345.19\n",
            "| epoch   1 |  2400/ 2981 batches | lr 5.00 | ms/batch 10.22 | loss  5.89 | ppl   362.44\n",
            "| epoch   1 |  2600/ 2981 batches | lr 5.00 | ms/batch 10.19 | loss  5.90 | ppl   364.22\n",
            "| epoch   1 |  2800/ 2981 batches | lr 5.00 | ms/batch 10.14 | loss  5.80 | ppl   330.44\n",
            "-----------------------------------------------------------------------------------------\n",
            "| end of epoch   1 | time: 31.65s | valid loss  5.72 | valid ppl   303.57\n",
            "-----------------------------------------------------------------------------------------\n",
            "| epoch   2 |   200/ 2981 batches | lr 4.51 | ms/batch 10.11 | loss  5.80 | ppl   328.86\n",
            "| epoch   2 |   400/ 2981 batches | lr 4.51 | ms/batch 10.19 | loss  5.78 | ppl   322.95\n",
            "| epoch   2 |   600/ 2981 batches | lr 4.51 | ms/batch 10.11 | loss  5.60 | ppl   270.15\n",
            "| epoch   2 |   800/ 2981 batches | lr 4.51 | ms/batch 10.14 | loss  5.64 | ppl   280.68\n",
            "| epoch   2 |  1000/ 2981 batches | lr 4.51 | ms/batch 10.12 | loss  5.59 | ppl   267.79\n",
            "| epoch   2 |  1200/ 2981 batches | lr 4.51 | ms/batch 10.12 | loss  5.61 | ppl   274.22\n",
            "| epoch   2 |  1400/ 2981 batches | lr 4.51 | ms/batch 10.14 | loss  5.63 | ppl   277.95\n",
            "| epoch   2 |  1600/ 2981 batches | lr 4.51 | ms/batch 10.11 | loss  5.65 | ppl   285.36\n",
            "| epoch   2 |  1800/ 2981 batches | lr 4.51 | ms/batch 10.13 | loss  5.59 | ppl   268.73\n",
            "| epoch   2 |  2000/ 2981 batches | lr 4.51 | ms/batch 10.19 | loss  5.62 | ppl   275.26\n",
            "| epoch   2 |  2200/ 2981 batches | lr 4.51 | ms/batch 10.14 | loss  5.51 | ppl   247.17\n",
            "| epoch   2 |  2400/ 2981 batches | lr 4.51 | ms/batch 10.14 | loss  5.57 | ppl   262.59\n",
            "| epoch   2 |  2600/ 2981 batches | lr 4.51 | ms/batch 10.21 | loss  5.58 | ppl   264.40\n",
            "| epoch   2 |  2800/ 2981 batches | lr 4.51 | ms/batch 10.24 | loss  5.51 | ppl   246.01\n",
            "-----------------------------------------------------------------------------------------\n",
            "| end of epoch   2 | time: 31.66s | valid loss  5.56 | valid ppl   260.52\n",
            "-----------------------------------------------------------------------------------------\n",
            "| epoch   3 |   200/ 2981 batches | lr 4.29 | ms/batch 10.16 | loss  5.54 | ppl   255.80\n",
            "| epoch   3 |   400/ 2981 batches | lr 4.29 | ms/batch 10.18 | loss  5.55 | ppl   257.38\n",
            "| epoch   3 |   600/ 2981 batches | lr 4.29 | ms/batch 10.18 | loss  5.36 | ppl   213.20\n",
            "| epoch   3 |   800/ 2981 batches | lr 4.29 | ms/batch 10.13 | loss  5.41 | ppl   224.31\n",
            "| epoch   3 |  1000/ 2981 batches | lr 4.29 | ms/batch 10.14 | loss  5.37 | ppl   214.53\n",
            "| epoch   3 |  1200/ 2981 batches | lr 4.29 | ms/batch 10.11 | loss  5.40 | ppl   221.56\n",
            "| epoch   3 |  1400/ 2981 batches | lr 4.29 | ms/batch 10.14 | loss  5.43 | ppl   228.95\n",
            "| epoch   3 |  1600/ 2981 batches | lr 4.29 | ms/batch 10.18 | loss  5.47 | ppl   236.76\n",
            "| epoch   3 |  1800/ 2981 batches | lr 4.29 | ms/batch 10.15 | loss  5.40 | ppl   222.14\n",
            "| epoch   3 |  2000/ 2981 batches | lr 4.29 | ms/batch 10.22 | loss  5.43 | ppl   228.80\n",
            "| epoch   3 |  2200/ 2981 batches | lr 4.29 | ms/batch 10.16 | loss  5.32 | ppl   204.13\n",
            "| epoch   3 |  2400/ 2981 batches | lr 4.29 | ms/batch 10.14 | loss  5.39 | ppl   220.10\n",
            "| epoch   3 |  2600/ 2981 batches | lr 4.29 | ms/batch 10.17 | loss  5.41 | ppl   223.42\n",
            "| epoch   3 |  2800/ 2981 batches | lr 4.29 | ms/batch 10.13 | loss  5.34 | ppl   207.87\n",
            "-----------------------------------------------------------------------------------------\n",
            "| end of epoch   3 | time: 31.61s | valid loss  5.50 | valid ppl   245.85\n",
            "-----------------------------------------------------------------------------------------\n",
            "=========================================================================================\n",
            "| End of training | test loss  5.41 | test ppl   224.51\n",
            "=========================================================================================\n",
            "====================================================================================================\n",
            "Training the model with following configs: number of heads=4 & number of encoders=2\n",
            "====================================================================================================\n",
            "| epoch   1 |   200/ 2981 batches | lr 5.00 | ms/batch 10.27 | loss  8.14 | ppl  3417.62\n",
            "| epoch   1 |   400/ 2981 batches | lr 5.00 | ms/batch 10.20 | loss  6.84 | ppl   935.58\n",
            "| epoch   1 |   600/ 2981 batches | lr 5.00 | ms/batch 10.23 | loss  6.39 | ppl   598.16\n",
            "| epoch   1 |   800/ 2981 batches | lr 5.00 | ms/batch 10.19 | loss  6.24 | ppl   510.42\n",
            "| epoch   1 |  1000/ 2981 batches | lr 5.00 | ms/batch 10.13 | loss  6.12 | ppl   452.63\n",
            "| epoch   1 |  1200/ 2981 batches | lr 5.00 | ms/batch 10.21 | loss  6.08 | ppl   439.21\n",
            "| epoch   1 |  1400/ 2981 batches | lr 5.00 | ms/batch 10.15 | loss  6.04 | ppl   418.59\n",
            "| epoch   1 |  1600/ 2981 batches | lr 5.00 | ms/batch 10.17 | loss  6.05 | ppl   424.07\n",
            "| epoch   1 |  1800/ 2981 batches | lr 5.00 | ms/batch 10.22 | loss  5.96 | ppl   387.01\n",
            "| epoch   1 |  2000/ 2981 batches | lr 5.00 | ms/batch 10.20 | loss  5.96 | ppl   387.27\n",
            "| epoch   1 |  2200/ 2981 batches | lr 5.00 | ms/batch 10.22 | loss  5.85 | ppl   346.91\n",
            "| epoch   1 |  2400/ 2981 batches | lr 5.00 | ms/batch 10.22 | loss  5.90 | ppl   364.99\n",
            "| epoch   1 |  2600/ 2981 batches | lr 5.00 | ms/batch 10.19 | loss  5.90 | ppl   364.35\n",
            "| epoch   1 |  2800/ 2981 batches | lr 5.00 | ms/batch 10.18 | loss  5.80 | ppl   331.44\n",
            "-----------------------------------------------------------------------------------------\n",
            "| end of epoch   1 | time: 31.71s | valid loss  5.69 | valid ppl   296.13\n",
            "-----------------------------------------------------------------------------------------\n",
            "| epoch   2 |   200/ 2981 batches | lr 4.51 | ms/batch 10.26 | loss  5.82 | ppl   335.60\n",
            "| epoch   2 |   400/ 2981 batches | lr 4.51 | ms/batch 10.19 | loss  5.78 | ppl   324.89\n",
            "| epoch   2 |   600/ 2981 batches | lr 4.51 | ms/batch 10.19 | loss  5.61 | ppl   271.92\n",
            "| epoch   2 |   800/ 2981 batches | lr 4.51 | ms/batch 10.15 | loss  5.65 | ppl   283.14\n",
            "| epoch   2 |  1000/ 2981 batches | lr 4.51 | ms/batch 10.19 | loss  5.60 | ppl   270.30\n",
            "| epoch   2 |  1200/ 2981 batches | lr 4.51 | ms/batch 10.21 | loss  5.62 | ppl   274.59\n",
            "| epoch   2 |  1400/ 2981 batches | lr 4.51 | ms/batch 10.22 | loss  5.63 | ppl   279.29\n",
            "| epoch   2 |  1600/ 2981 batches | lr 4.51 | ms/batch 10.33 | loss  5.68 | ppl   292.43\n",
            "| epoch   2 |  1800/ 2981 batches | lr 4.51 | ms/batch 10.16 | loss  5.60 | ppl   271.19\n",
            "| epoch   2 |  2000/ 2981 batches | lr 4.51 | ms/batch 10.17 | loss  5.63 | ppl   278.35\n",
            "| epoch   2 |  2200/ 2981 batches | lr 4.51 | ms/batch 10.23 | loss  5.53 | ppl   251.19\n",
            "| epoch   2 |  2400/ 2981 batches | lr 4.51 | ms/batch 10.18 | loss  5.59 | ppl   268.99\n",
            "| epoch   2 |  2600/ 2981 batches | lr 4.51 | ms/batch 10.18 | loss  5.61 | ppl   273.22\n",
            "| epoch   2 |  2800/ 2981 batches | lr 4.51 | ms/batch 10.28 | loss  5.53 | ppl   253.37\n",
            "-----------------------------------------------------------------------------------------\n",
            "| end of epoch   2 | time: 31.78s | valid loss  5.58 | valid ppl   265.16\n",
            "-----------------------------------------------------------------------------------------\n",
            "| epoch   3 |   200/ 2981 batches | lr 4.29 | ms/batch 10.31 | loss  5.57 | ppl   263.46\n",
            "| epoch   3 |   400/ 2981 batches | lr 4.29 | ms/batch 10.17 | loss  5.57 | ppl   262.88\n",
            "| epoch   3 |   600/ 2981 batches | lr 4.29 | ms/batch 10.20 | loss  5.38 | ppl   217.14\n",
            "| epoch   3 |   800/ 2981 batches | lr 4.29 | ms/batch 10.17 | loss  5.43 | ppl   229.08\n",
            "| epoch   3 |  1000/ 2981 batches | lr 4.29 | ms/batch 10.20 | loss  5.40 | ppl   221.27\n",
            "| epoch   3 |  1200/ 2981 batches | lr 4.29 | ms/batch 10.24 | loss  5.43 | ppl   227.77\n",
            "| epoch   3 |  1400/ 2981 batches | lr 4.29 | ms/batch 10.21 | loss  5.45 | ppl   233.89\n",
            "| epoch   3 |  1600/ 2981 batches | lr 4.29 | ms/batch 10.20 | loss  5.49 | ppl   243.16\n",
            "| epoch   3 |  1800/ 2981 batches | lr 4.29 | ms/batch 10.22 | loss  5.43 | ppl   227.69\n",
            "| epoch   3 |  2000/ 2981 batches | lr 4.29 | ms/batch 10.22 | loss  5.45 | ppl   233.04\n",
            "| epoch   3 |  2200/ 2981 batches | lr 4.29 | ms/batch 10.28 | loss  5.36 | ppl   211.72\n",
            "| epoch   3 |  2400/ 2981 batches | lr 4.29 | ms/batch 10.19 | loss  5.42 | ppl   226.10\n",
            "| epoch   3 |  2600/ 2981 batches | lr 4.29 | ms/batch 10.24 | loss  5.44 | ppl   229.41\n",
            "| epoch   3 |  2800/ 2981 batches | lr 4.29 | ms/batch 10.22 | loss  5.38 | ppl   216.01\n",
            "-----------------------------------------------------------------------------------------\n",
            "| end of epoch   3 | time: 31.80s | valid loss  5.58 | valid ppl   265.09\n",
            "-----------------------------------------------------------------------------------------\n",
            "=========================================================================================\n",
            "| End of training | test loss  5.48 | test ppl   240.98\n",
            "=========================================================================================\n",
            "====================================================================================================\n",
            "Training the model with following configs: number of heads=8 & number of encoders=2\n",
            "====================================================================================================\n",
            "| epoch   1 |   200/ 2981 batches | lr 5.00 | ms/batch 10.37 | loss  8.12 | ppl  3364.56\n",
            "| epoch   1 |   400/ 2981 batches | lr 5.00 | ms/batch 10.24 | loss  6.82 | ppl   914.41\n",
            "| epoch   1 |   600/ 2981 batches | lr 5.00 | ms/batch 10.23 | loss  6.38 | ppl   588.23\n",
            "| epoch   1 |   800/ 2981 batches | lr 5.00 | ms/batch 10.19 | loss  6.23 | ppl   510.06\n",
            "| epoch   1 |  1000/ 2981 batches | lr 5.00 | ms/batch 10.30 | loss  6.12 | ppl   455.28\n",
            "| epoch   1 |  1200/ 2981 batches | lr 5.00 | ms/batch 10.25 | loss  6.08 | ppl   438.18\n",
            "| epoch   1 |  1400/ 2981 batches | lr 5.00 | ms/batch 10.22 | loss  6.04 | ppl   418.89\n",
            "| epoch   1 |  1600/ 2981 batches | lr 5.00 | ms/batch 10.23 | loss  6.04 | ppl   421.28\n",
            "| epoch   1 |  1800/ 2981 batches | lr 5.00 | ms/batch 10.22 | loss  5.95 | ppl   384.69\n",
            "| epoch   1 |  2000/ 2981 batches | lr 5.00 | ms/batch 10.21 | loss  5.95 | ppl   385.21\n",
            "| epoch   1 |  2200/ 2981 batches | lr 5.00 | ms/batch 10.24 | loss  5.85 | ppl   346.95\n",
            "| epoch   1 |  2400/ 2981 batches | lr 5.00 | ms/batch 10.21 | loss  5.89 | ppl   359.78\n",
            "| epoch   1 |  2600/ 2981 batches | lr 5.00 | ms/batch 10.20 | loss  5.89 | ppl   362.72\n",
            "| epoch   1 |  2800/ 2981 batches | lr 5.00 | ms/batch 10.22 | loss  5.81 | ppl   332.80\n",
            "-----------------------------------------------------------------------------------------\n",
            "| end of epoch   1 | time: 31.85s | valid loss  5.69 | valid ppl   296.76\n",
            "-----------------------------------------------------------------------------------------\n",
            "| epoch   2 |   200/ 2981 batches | lr 4.51 | ms/batch 10.23 | loss  5.80 | ppl   330.42\n",
            "| epoch   2 |   400/ 2981 batches | lr 4.51 | ms/batch 10.17 | loss  5.78 | ppl   324.03\n",
            "| epoch   2 |   600/ 2981 batches | lr 4.51 | ms/batch 10.21 | loss  5.60 | ppl   270.67\n",
            "| epoch   2 |   800/ 2981 batches | lr 4.51 | ms/batch 10.18 | loss  5.64 | ppl   280.54\n",
            "| epoch   2 |  1000/ 2981 batches | lr 4.51 | ms/batch 10.15 | loss  5.59 | ppl   267.66\n",
            "| epoch   2 |  1200/ 2981 batches | lr 4.51 | ms/batch 10.20 | loss  5.62 | ppl   274.79\n",
            "| epoch   2 |  1400/ 2981 batches | lr 4.51 | ms/batch 10.15 | loss  5.64 | ppl   280.83\n",
            "| epoch   2 |  1600/ 2981 batches | lr 4.51 | ms/batch 10.21 | loss  5.67 | ppl   291.32\n",
            "| epoch   2 |  1800/ 2981 batches | lr 4.51 | ms/batch 10.29 | loss  5.60 | ppl   270.57\n",
            "| epoch   2 |  2000/ 2981 batches | lr 4.51 | ms/batch 10.19 | loss  5.63 | ppl   278.71\n",
            "| epoch   2 |  2200/ 2981 batches | lr 4.51 | ms/batch 10.22 | loss  5.52 | ppl   249.56\n",
            "| epoch   2 |  2400/ 2981 batches | lr 4.51 | ms/batch 10.19 | loss  5.59 | ppl   266.94\n",
            "| epoch   2 |  2600/ 2981 batches | lr 4.51 | ms/batch 10.23 | loss  5.60 | ppl   271.47\n",
            "| epoch   2 |  2800/ 2981 batches | lr 4.51 | ms/batch 10.31 | loss  5.53 | ppl   252.05\n",
            "-----------------------------------------------------------------------------------------\n",
            "| end of epoch   2 | time: 31.77s | valid loss  5.53 | valid ppl   253.01\n",
            "-----------------------------------------------------------------------------------------\n",
            "| epoch   3 |   200/ 2981 batches | lr 4.29 | ms/batch 10.28 | loss  5.56 | ppl   260.71\n",
            "| epoch   3 |   400/ 2981 batches | lr 4.29 | ms/batch 10.28 | loss  5.57 | ppl   262.39\n",
            "| epoch   3 |   600/ 2981 batches | lr 4.29 | ms/batch 10.30 | loss  5.37 | ppl   214.98\n",
            "| epoch   3 |   800/ 2981 batches | lr 4.29 | ms/batch 10.23 | loss  5.44 | ppl   230.39\n",
            "| epoch   3 |  1000/ 2981 batches | lr 4.29 | ms/batch 10.21 | loss  5.39 | ppl   219.91\n",
            "| epoch   3 |  1200/ 2981 batches | lr 4.29 | ms/batch 10.17 | loss  5.42 | ppl   226.56\n",
            "| epoch   3 |  1400/ 2981 batches | lr 4.29 | ms/batch 10.23 | loss  5.45 | ppl   233.58\n",
            "| epoch   3 |  1600/ 2981 batches | lr 4.29 | ms/batch 10.22 | loss  5.50 | ppl   244.56\n",
            "| epoch   3 |  1800/ 2981 batches | lr 4.29 | ms/batch 10.38 | loss  5.44 | ppl   230.19\n",
            "| epoch   3 |  2000/ 2981 batches | lr 4.29 | ms/batch 10.30 | loss  5.47 | ppl   237.65\n",
            "| epoch   3 |  2200/ 2981 batches | lr 4.29 | ms/batch 10.24 | loss  5.35 | ppl   209.90\n",
            "| epoch   3 |  2400/ 2981 batches | lr 4.29 | ms/batch 10.17 | loss  5.43 | ppl   227.40\n",
            "| epoch   3 |  2600/ 2981 batches | lr 4.29 | ms/batch 10.27 | loss  5.44 | ppl   231.59\n",
            "| epoch   3 |  2800/ 2981 batches | lr 4.29 | ms/batch 10.29 | loss  5.40 | ppl   221.29\n",
            "-----------------------------------------------------------------------------------------\n",
            "| end of epoch   3 | time: 31.93s | valid loss  5.51 | valid ppl   246.21\n",
            "-----------------------------------------------------------------------------------------\n",
            "=========================================================================================\n",
            "| End of training | test loss  5.42 | test ppl   225.77\n",
            "=========================================================================================\n"
          ]
        }
      ]
    },
    {
      "cell_type": "code",
      "source": [
        "import matplotlib.pyplot as plt\n",
        "plt.bar(head_list,test_list)\n",
        "plt.title(\"Test performance - Number of heads\")\n",
        "plt.xlabel(\"Number of heads\")\n",
        "plt.ylabel(\"Test performance\")\n",
        "plt.show()\n",
        "\n",
        "for i in range(len(head_list)):\n",
        "  plt.plot(range(1,epochs+1),vali_list[i],label=f\"head = {head_list[i]}\")\n",
        "\n",
        "plt.title(\"Validation performance - Number of heads\")\n",
        "plt.xlabel(\"Number of heads\")\n",
        "plt.ylabel(\"validation performance\")\n",
        "plt.xticks(list(range(1,epochs+1)),range(1,epochs+1))\n",
        "plt.legend()\n",
        "plt.show()"
      ],
      "metadata": {
        "colab": {
          "base_uri": "https://localhost:8080/",
          "height": 573
        },
        "id": "Wz-ZmUdTSHR9",
        "outputId": "0b7d91eb-dc9b-450c-f757-620383fa8845"
      },
      "execution_count": null,
      "outputs": [
        {
          "output_type": "display_data",
          "data": {
            "text/plain": [
              "<Figure size 432x288 with 1 Axes>"
            ],
            "image/png": "[encoded data removed]"
          },
          "metadata": {
            "needs_background": "light"
          }
        },
        {
          "output_type": "display_data",
          "data": {
            "text/plain": [
              "<Figure size 432x288 with 1 Axes>"
            ],
            "image/png": "[encoded data removed]"
          },
          "metadata": {
            "needs_background": "light"
          }
        }
      ]
    },
    {
      "cell_type": "code",
      "metadata": {
        "colab": {
          "base_uri": "https://localhost:8080/",
          "height": 573
        },
        "id": "P9P6lHtMq_9G",
        "outputId": "b758b88a-21e1-4eaa-fada-80564b3c38bf"
      },
      "source": [],
      "execution_count": null,
      "outputs": [
        {
          "output_type": "display_data",
          "data": {
            "text/plain": [
              "<Figure size 432x288 with 1 Axes>"
            ],
            "image/png": "[encoded data removed]"
          },
          "metadata": {
            "needs_background": "light"
          }
        },
        {
          "output_type": "display_data",
          "data": {
            "text/plain": [
              "<Figure size 432x288 with 1 Axes>"
            ],
            "image/png": "[encoded data removed]"
          },
          "metadata": {
            "needs_background": "light"
          }
        }
      ]
    }
  ]
}